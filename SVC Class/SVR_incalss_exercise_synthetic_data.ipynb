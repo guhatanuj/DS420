{
 "cells": [
  {
   "cell_type": "code",
   "execution_count": 7,
   "id": "fc5d5dc8",
   "metadata": {},
   "outputs": [],
   "source": [
    "from sklearn.pipeline import make_pipeline\n",
    "from sklearn.svm import SVR\n",
    "from sklearn.preprocessing import StandardScaler\n",
    "import matplotlib.pyplot as plt\n",
    "\n",
    "import numpy as np"
   ]
  },
  {
   "cell_type": "code",
   "execution_count": 8,
   "id": "57360bbc",
   "metadata": {},
   "outputs": [
    {
     "ename": "NameError",
     "evalue": "name 'X' is not defined",
     "output_type": "error",
     "traceback": [
      "\u001b[1;31m---------------------------------------------------------------------------\u001b[0m",
      "\u001b[1;31mNameError\u001b[0m                                 Traceback (most recent call last)",
      "Input \u001b[1;32mIn [8]\u001b[0m, in \u001b[0;36m<cell line: 6>\u001b[1;34m()\u001b[0m\n\u001b[0;32m      2\u001b[0m rng \u001b[38;5;241m=\u001b[39m np\u001b[38;5;241m.\u001b[39mrandom\u001b[38;5;241m.\u001b[39mRandomState(\u001b[38;5;241m42\u001b[39m)\n\u001b[0;32m      4\u001b[0m X_train \u001b[38;5;241m=\u001b[39m \u001b[38;5;241m5\u001b[39m \u001b[38;5;241m*\u001b[39m rng\u001b[38;5;241m.\u001b[39mrand(\u001b[38;5;241m10000\u001b[39m,\u001b[38;5;241m1\u001b[39m)\n\u001b[1;32m----> 6\u001b[0m y_train \u001b[38;5;241m=\u001b[39m np\u001b[38;5;241m.\u001b[39msin(\u001b[43mX\u001b[49m)\u001b[38;5;241m.\u001b[39mravel()\n\u001b[0;32m      8\u001b[0m \u001b[38;5;66;03m#adding noise to targets\u001b[39;00m\n\u001b[0;32m      9\u001b[0m y[::\u001b[38;5;241m5\u001b[39m] \u001b[38;5;241m+\u001b[39m\u001b[38;5;241m=\u001b[39m \u001b[38;5;241m1.5\u001b[39m \u001b[38;5;241m*\u001b[39m (\u001b[38;5;241m0.5\u001b[39m \u001b[38;5;241m-\u001b[39m rng\u001b[38;5;241m.\u001b[39mrand(X\u001b[38;5;241m.\u001b[39mshape[\u001b[38;5;241m0\u001b[39m] \u001b[38;5;241m/\u001b[39m\u001b[38;5;241m/\u001b[39m \u001b[38;5;241m5\u001b[39m))\n",
      "\u001b[1;31mNameError\u001b[0m: name 'X' is not defined"
     ]
    }
   ],
   "source": [
    "#creating a synthetic dataset\n",
    "rng = np.random.RandomState(42)\n",
    "\n",
    "X_train = 5 * rng.rand(10000,1)\n",
    "\n",
    "y_train = np.sin(X).ravel()\n",
    "\n",
    "#adding noise to targets\n",
    "y[::5] += 1.5 * (0.5 - rng.rand(X.shape[0] // 5))\n",
    "\n",
    "X_plt = np.linspace(0,5, 100000)[:, None]"
   ]
  },
  {
   "cell_type": "code",
   "execution_count": null,
   "id": "c711c0ff",
   "metadata": {},
   "outputs": [],
   "source": []
  }
 ],
 "metadata": {
  "kernelspec": {
   "display_name": "Python 3 (ipykernel)",
   "language": "python",
   "name": "python3"
  },
  "language_info": {
   "codemirror_mode": {
    "name": "ipython",
    "version": 3
   },
   "file_extension": ".py",
   "mimetype": "text/x-python",
   "name": "python",
   "nbconvert_exporter": "python",
   "pygments_lexer": "ipython3",
   "version": "3.10.5"
  }
 },
 "nbformat": 4,
 "nbformat_minor": 5
}
